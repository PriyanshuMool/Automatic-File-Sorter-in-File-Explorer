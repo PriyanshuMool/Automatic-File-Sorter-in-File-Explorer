{
 "cells": [
  {
   "cell_type": "code",
   "execution_count": null,
   "id": "3994e2b9-ef87-4c35-b8b9-dc2bbcccd124",
   "metadata": {},
   "outputs": [],
   "source": [
    "#Automatic File Sorter in File Explorer: Sort all of them into their own folders depending on what king of file they are."
   ]
  },
  {
   "cell_type": "code",
   "execution_count": 12,
   "id": "a782ab28-75a9-4065-baf0-c6a554af8091",
   "metadata": {},
   "outputs": [],
   "source": [
    "import os, shutil   #os stands for operating system and shutil wii allow us to do high level of operations on our files in file explorer."
   ]
  },
  {
   "cell_type": "code",
   "execution_count": 26,
   "id": "8a3b16fc-aa4d-4365-ad5a-5f5c827be04f",
   "metadata": {},
   "outputs": [],
   "source": [
    "#Step 1: copy the file path from file explorer.\n",
    "path = r'E:/Astronomy images/'   #the r reads it like a raw string."
   ]
  },
  {
   "cell_type": "code",
   "execution_count": 28,
   "id": "24002c3f-69ff-45aa-aced-e20c34935d5e",
   "metadata": {},
   "outputs": [
    {
     "data": {
      "text/plain": [
       "['Black hole 1st image (1).jpg',\n",
       " 'Black hole 1st image.jpg',\n",
       " 'Black Hole a littlt more clear image[may be fake].jpg',\n",
       " 'Black hole.jpg',\n",
       " 'Crab Nebula 5 Observatories[10 May 2017].jpg',\n",
       " 'Crab Nebula in Multiple Wavelengths[8 March 2015].png',\n",
       " 'Eagle nebula pillars of creation.jpg',\n",
       " 'Earth-PaleBlueDot Voyager1 original.jpg',\n",
       " 'Gargantua [Black hole in interstellar.jpg',\n",
       " 'Gargntua [Black hole concept in Interstellar] (1).jpg',\n",
       " 'Gargntua [Black hole concept in Interstellar].jpg',\n",
       " 'Location of Earth.png',\n",
       " 'Observable Universe Logarithmic Map.png',\n",
       " 'Observal universe & our assumed place in it.jpg',\n",
       " 'The Big Bang or The Universe Evolution.jpg',\n",
       " 'The Celestial Zoo infographic wikimedia.png',\n",
       " 'wallpaperflare.com_wallpaper.jpg']"
      ]
     },
     "execution_count": 28,
     "metadata": {},
     "output_type": "execute_result"
    }
   ],
   "source": [
    "#step 2: create folder, check files individually identify what kind fo file they are and put them in correct folder\n",
    "os.listdir(path)"
   ]
  },
  {
   "cell_type": "code",
   "execution_count": 30,
   "id": "5c16e3a7-8dd4-4cf5-a6fb-39b79a531171",
   "metadata": {},
   "outputs": [
    {
     "data": {
      "text/plain": [
       "False"
      ]
     },
     "execution_count": 30,
     "metadata": {},
     "output_type": "execute_result"
    }
   ],
   "source": [
    "#step 3: create folders, or check if there is folders and create if they are not there. Check if the folder exists already\n",
    "os.path.exists(path + 'png files')    #returns false because it doesn't exists"
   ]
  },
  {
   "cell_type": "code",
   "execution_count": 34,
   "id": "1d67abc5-d276-405d-af69-59e15da94995",
   "metadata": {},
   "outputs": [],
   "source": [
    "#we need to create 2 separate paths\n",
    "folder_names = ['png files', 'jpg files']\n",
    "\n",
    "for loop in range(0, 2):    #range 1 greater then the max index of the list\n",
    "    if not os.path.exists(path + folder_names[loop]):\n",
    "        os.makedirs((path + folder_names[loop]))    #creats directories"
   ]
  },
  {
   "cell_type": "code",
   "execution_count": 36,
   "id": "e1c7261d-861d-4ec1-b181-2318deee5b84",
   "metadata": {},
   "outputs": [],
   "source": [
    "#step 4: now we need to read the files and check what kind of file it is and place them in the respective folder\n",
    "#we need to loop through 'os.listdir(path)'\n",
    "files_names = os.listdir(path)"
   ]
  },
  {
   "cell_type": "code",
   "execution_count": 58,
   "id": "5d0f473b-d905-4077-81b7-e7f9ad5614a9",
   "metadata": {},
   "outputs": [],
   "source": [
    "#now loop through 'os.listdir(path)'\n",
    "for file in files_names:\n",
    "    if \".png\" in file and not os.path.exists(path + \"png files/\" + file):    #if the png is in the file (which is file_names, list of actule files), and not already in png files\n",
    "        shutil.move(path + file, path + \"png files/\" + file)    #actually moves the files from it's initial position to the new position (separated by comma)\n",
    "    elif \".jpg\" in file and not os.path.exists(path + \"jpg files/\" + file):    #if the jpg is in the file (which is file_names, list of actule files), and not already in jpg files\n",
    "        shutil.move(path + file, path + \"jpg files/\" + file)    #actually moves the files from it's initial position to the new position (separated by comma)"
   ]
  },
  {
   "cell_type": "code",
   "execution_count": null,
   "id": "13a282ac-3574-49a4-823a-b420ab81f79c",
   "metadata": {},
   "outputs": [],
   "source": []
  }
 ],
 "metadata": {
  "kernelspec": {
   "display_name": "Python 3 (ipykernel)",
   "language": "python",
   "name": "python3"
  },
  "language_info": {
   "codemirror_mode": {
    "name": "ipython",
    "version": 3
   },
   "file_extension": ".py",
   "mimetype": "text/x-python",
   "name": "python",
   "nbconvert_exporter": "python",
   "pygments_lexer": "ipython3",
   "version": "3.12.4"
  }
 },
 "nbformat": 4,
 "nbformat_minor": 5
}
